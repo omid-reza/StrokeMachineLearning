{
 "cells": [
  {
   "cell_type": "markdown",
   "source": [
    "### Import required libraries"
   ],
   "metadata": {
    "collapsed": false,
    "pycharm": {
     "name": "#%% md\n"
    }
   }
  },
  {
   "cell_type": "code",
   "execution_count": 871,
   "outputs": [],
   "source": [
    "import pandas as pd\n",
    "import numpy as np\n",
    "import re\n",
    "import seaborn as sns\n",
    "import matplotlib.pyplot as plt"
   ],
   "metadata": {
    "collapsed": false,
    "pycharm": {
     "name": "#%%\n"
    }
   }
  },
  {
   "cell_type": "markdown",
   "source": [
    "### Read source file(s)"
   ],
   "metadata": {
    "collapsed": false,
    "pycharm": {
     "name": "#%% md\n"
    }
   }
  },
  {
   "cell_type": "code",
   "execution_count": 872,
   "outputs": [],
   "source": [
    "sd = pd.read_csv(\"data\\DTI-AAL-SD.csv\")\n",
    "mean = pd.read_csv(\"data\\DTI-AAL-Mean.csv\")\n",
    "volume = pd.read_csv(\"data\\DTI-AAL-Volume.csv\")"
   ],
   "metadata": {
    "collapsed": false,
    "pycharm": {
     "name": "#%%\n"
    }
   }
  },
  {
   "cell_type": "markdown",
   "source": [
    "### Remove empty rows"
   ],
   "metadata": {
    "collapsed": false,
    "pycharm": {
     "name": "#%% md\n"
    }
   }
  },
  {
   "cell_type": "code",
   "execution_count": 873,
   "outputs": [],
   "source": [
    "sd = sd.dropna()\n",
    "mean = mean.dropna()\n",
    "volume = volume.dropna()"
   ],
   "metadata": {
    "collapsed": false,
    "pycharm": {
     "name": "#%%\n"
    }
   }
  },
  {
   "cell_type": "markdown",
   "source": [
    "### Eliminate replicated columns"
   ],
   "metadata": {
    "collapsed": false,
    "pycharm": {
     "name": "#%% md\n"
    }
   }
  },
  {
   "cell_type": "code",
   "execution_count": 874,
   "outputs": [],
   "source": [
    "columns=[\"age\", \"gender\", \"handedness\", \"affected hemisphere\", \"post-stroke time\", \"group\"]\n",
    "sd = sd.drop(columns=columns)\n",
    "mean = mean.drop(columns=columns)"
   ],
   "metadata": {
    "collapsed": false,
    "pycharm": {
     "name": "#%%\n"
    }
   }
  },
  {
   "cell_type": "markdown",
   "source": [
    "### Fix the name of the columns\n",
    "- Remove the number that have been added by pandas\n",
    "- Attach the related parameter's name to first of the columns\n",
    "- Attach the data set name to the fist of each column due to the merge action that will be done"
   ],
   "metadata": {
    "collapsed": false,
    "pycharm": {
     "name": "#%% md\n"
    }
   }
  },
  {
   "cell_type": "code",
   "execution_count": 875,
   "outputs": [],
   "source": [
    "DTI_PARAMETERS=[\"FA\", \"MD\", \"AxD\", \"RD\", \"RA\", \"omid\"]\n",
    "datasets ={\n",
    "    'mean':mean,\n",
    "    'sd':sd\n",
    "}\n",
    "for dataset_key in datasets.keys():\n",
    "    dataset=datasets.get(dataset_key)\n",
    "    parameter_index=0\n",
    "    columns=dataset.columns\n",
    "    columns=[re.sub('.\\d{1}$', '', index) for index in columns]\n",
    "    for index in range(1, len(columns)):\n",
    "        if columns[index].startswith(DTI_PARAMETERS[parameter_index+1]):\n",
    "            parameter_index+=1\n",
    "        elif not columns[index].startswith(DTI_PARAMETERS[parameter_index]):\n",
    "            columns[index]=\"{0}_{1}\".format(DTI_PARAMETERS[parameter_index], columns[index])\n",
    "        columns[index]=\"{0}_{1}\".format(dataset_key, columns[index])\n",
    "    globals()[dataset_key]=pd.DataFrame(data=dataset.to_numpy(), columns=columns)"
   ],
   "metadata": {
    "collapsed": false,
    "pycharm": {
     "name": "#%%\n"
    }
   }
  },
  {
   "cell_type": "markdown",
   "source": [
    "### Fix data type of some columns"
   ],
   "metadata": {
    "collapsed": false,
    "pycharm": {
     "name": "#%% md\n"
    }
   }
  },
  {
   "cell_type": "code",
   "execution_count": 876,
   "outputs": [],
   "source": [
    "columns = [\"file code\", \"post-stroke time\", \"age\"]\n",
    "volume[columns] = volume[columns].applymap(np.int64)\n",
    "columns = mean.columns\n",
    "mean[columns] = mean[columns].applymap(np.float64)"
   ],
   "metadata": {
    "collapsed": false,
    "pycharm": {
     "name": "#%%\n"
    }
   }
  },
  {
   "cell_type": "markdown",
   "source": [
    "### Merge three dataframe into a comprehensive dataframe"
   ],
   "metadata": {
    "collapsed": false,
    "pycharm": {
     "name": "#%% md\n"
    }
   }
  },
  {
   "cell_type": "code",
   "execution_count": 877,
   "outputs": [],
   "source": [
    "df = pd.merge(volume, mean, on=\"file code\", how=\"outer\")\n",
    "df = pd.merge(df, sd, on=\"file code\", how=\"outer\")"
   ],
   "metadata": {
    "collapsed": false,
    "pycharm": {
     "name": "#%%\n"
    }
   }
  },
  {
   "cell_type": "markdown",
   "source": [
    "### Encode some columns"
   ],
   "metadata": {
    "collapsed": false,
    "pycharm": {
     "name": "#%% md\n"
    }
   }
  },
  {
   "cell_type": "code",
   "execution_count": 878,
   "outputs": [],
   "source": [
    "from sklearn.preprocessing import LabelEncoder\n",
    "encoder = LabelEncoder()\n",
    "df[\"group\"] = encoder.fit_transform(df[\"group\"])\n",
    "df[\"gender\"] = encoder.fit_transform(df[\"gender\"])\n",
    "df[\"handedness\"] = encoder.fit_transform(df[\"handedness\"])\n",
    "df[\"affected hemisphere\"] = encoder.fit_transform(df[\"affected hemisphere\"])"
   ],
   "metadata": {
    "collapsed": false,
    "pycharm": {
     "name": "#%%\n"
    }
   }
  },
  {
   "cell_type": "markdown",
   "source": [
    "### Split the target and source columns"
   ],
   "metadata": {
    "collapsed": false,
    "pycharm": {
     "name": "#%% md\n"
    }
   }
  },
  {
   "cell_type": "code",
   "execution_count": 879,
   "outputs": [],
   "source": [
    "x = df.drop(columns=[\"group\"])\n",
    "y = df[\"group\"]"
   ],
   "metadata": {
    "collapsed": false,
    "pycharm": {
     "name": "#%%\n"
    }
   }
  },
  {
   "cell_type": "markdown",
   "source": [
    "### Split dataset into train and test"
   ],
   "metadata": {
    "collapsed": false,
    "pycharm": {
     "name": "#%% md\n"
    }
   }
  },
  {
   "cell_type": "code",
   "execution_count": 880,
   "outputs": [],
   "source": [
    "from sklearn.model_selection import train_test_split\n",
    "x_train, x_test, y_train, y_test = train_test_split(x, y, test_size=0.2)"
   ],
   "metadata": {
    "collapsed": false,
    "pycharm": {
     "name": "#%%\n"
    }
   }
  },
  {
   "cell_type": "markdown",
   "source": [
    "### Define a custom confusion matrix illustrator"
   ],
   "metadata": {
    "collapsed": false,
    "pycharm": {
     "name": "#%% md\n"
    }
   }
  },
  {
   "cell_type": "code",
   "execution_count": 881,
   "outputs": [],
   "source": [
    "from sklearn.metrics import confusion_matrix\n",
    "def show_confusion_matrix(y_test, y_pred):\n",
    "    clr_plt = sns.light_palette(\"#FF9F29\", reverse=True, as_cmap=True)\n",
    "    cf_matrix = confusion_matrix(y_test, y_pred)\n",
    "    sns.heatmap(cf_matrix/np.sum(cf_matrix), annot=True, fmt='.2%',cmap=clr_plt)\n",
    "    plt.ylabel('True label')\n",
    "    plt.xlabel('Predicted Label')"
   ],
   "metadata": {
    "collapsed": false,
    "pycharm": {
     "name": "#%%\n"
    }
   }
  }
 ],
 "metadata": {
  "kernelspec": {
   "display_name": "Python 3",
   "language": "python",
   "name": "python3"
  },
  "language_info": {
   "codemirror_mode": {
    "name": "ipython",
    "version": 2
   },
   "file_extension": ".py",
   "mimetype": "text/x-python",
   "name": "python",
   "nbconvert_exporter": "python",
   "pygments_lexer": "ipython2",
   "version": "2.7.6"
  }
 },
 "nbformat": 4,
 "nbformat_minor": 0
}