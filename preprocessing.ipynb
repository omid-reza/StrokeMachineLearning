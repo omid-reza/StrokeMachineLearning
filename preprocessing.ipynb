{
 "cells": [
  {
   "cell_type": "markdown",
   "source": [
    "### Import required libraries"
   ],
   "metadata": {
    "collapsed": false,
    "pycharm": {
     "name": "#%% md\n"
    }
   }
  },
  {
   "cell_type": "code",
   "execution_count": 48,
   "outputs": [],
   "source": [
    "import re\n",
    "import pickle\n",
    "import json\n",
    "import numpy as np\n",
    "import pandas as pd\n",
    "from sklearn.preprocessing import LabelEncoder"
   ],
   "metadata": {
    "collapsed": false,
    "pycharm": {
     "name": "#%%\n"
    }
   }
  },
  {
   "cell_type": "markdown",
   "source": [
    "### Read source file(s)"
   ],
   "metadata": {
    "collapsed": false,
    "pycharm": {
     "name": "#%% md\n"
    }
   }
  },
  {
   "cell_type": "code",
   "execution_count": 49,
   "outputs": [],
   "source": [
    "sd = pd.read_csv(\"data\\DTI-AAL-SD.csv\")\n",
    "mean = pd.read_csv(\"data\\DTI-AAL-Mean.csv\")\n",
    "volume = pd.read_csv(\"data\\DTI-AAL-Volume.csv\")"
   ],
   "metadata": {
    "collapsed": false,
    "pycharm": {
     "name": "#%%\n"
    }
   }
  },
  {
   "cell_type": "markdown",
   "source": [
    "### Remove empty rows"
   ],
   "metadata": {
    "collapsed": false,
    "pycharm": {
     "name": "#%% md\n"
    }
   }
  },
  {
   "cell_type": "code",
   "execution_count": 50,
   "outputs": [],
   "source": [
    "sd = sd.dropna()\n",
    "mean = mean.dropna()\n",
    "volume = volume.dropna()"
   ],
   "metadata": {
    "collapsed": false,
    "pycharm": {
     "name": "#%%\n"
    }
   }
  },
  {
   "cell_type": "markdown",
   "source": [
    "### Eliminate replicated columns"
   ],
   "metadata": {
    "collapsed": false,
    "pycharm": {
     "name": "#%% md\n"
    }
   }
  },
  {
   "cell_type": "code",
   "execution_count": 51,
   "outputs": [],
   "source": [
    "columns=[\"age\", \"gender\", \"handedness\", \"affected hemisphere\", \"post-stroke time\", \"group\"]\n",
    "sd = sd.drop(columns=columns)\n",
    "mean = mean.drop(columns=columns)"
   ],
   "metadata": {
    "collapsed": false,
    "pycharm": {
     "name": "#%%\n"
    }
   }
  },
  {
   "cell_type": "markdown",
   "source": [
    "### Fix the name of the columns\n",
    "- Remove the number that have been added by pandas\n",
    "- Attach the related parameter's name to first of the columns\n",
    "- Attach the data set name to the fist of each column due to the merge action that will be done"
   ],
   "metadata": {
    "collapsed": false,
    "pycharm": {
     "name": "#%% md\n"
    }
   }
  },
  {
   "cell_type": "code",
   "execution_count": 52,
   "outputs": [],
   "source": [
    "DTI_PARAMETERS=[\"FA\", \"MD\", \"AxD\", \"RD\", \"RA\", \"TEMP\"]\n",
    "datasets ={\n",
    "    'mean':mean,\n",
    "    'sd':sd\n",
    "}\n",
    "for dataset_key in datasets.keys():\n",
    "    dataset=datasets.get(dataset_key)\n",
    "    parameter_index=0\n",
    "    columns=dataset.columns\n",
    "    columns=[re.sub('.\\d{1}$', '', index) for index in columns]\n",
    "    for index in range(1, len(columns)):\n",
    "        if columns[index].startswith(DTI_PARAMETERS[parameter_index+1]):\n",
    "            parameter_index+=1\n",
    "        elif not columns[index].startswith(DTI_PARAMETERS[parameter_index]):\n",
    "            columns[index]=\"{0}_{1}\".format(DTI_PARAMETERS[parameter_index], columns[index])\n",
    "        columns[index]=\"{0}_{1}\".format(dataset_key, columns[index])\n",
    "    globals()[dataset_key]=pd.DataFrame(data=dataset.to_numpy(), columns=columns)"
   ],
   "metadata": {
    "collapsed": false,
    "pycharm": {
     "name": "#%%\n"
    }
   }
  },
  {
   "cell_type": "markdown",
   "source": [
    "### Fix data type of some columns"
   ],
   "metadata": {
    "collapsed": false,
    "pycharm": {
     "name": "#%% md\n"
    }
   }
  },
  {
   "cell_type": "code",
   "execution_count": 53,
   "outputs": [],
   "source": [
    "columns = [\"file code\", \"post-stroke time\", \"age\"]\n",
    "volume[columns] = volume[columns].applymap(np.int64)\n",
    "columns = mean.columns\n",
    "mean[columns] = mean[columns].applymap(np.float64)"
   ],
   "metadata": {
    "collapsed": false,
    "pycharm": {
     "name": "#%%\n"
    }
   }
  },
  {
   "cell_type": "markdown",
   "source": [
    "### Merge three dataframe into a comprehensive dataframe"
   ],
   "metadata": {
    "collapsed": false,
    "pycharm": {
     "name": "#%% md\n"
    }
   }
  },
  {
   "cell_type": "code",
   "execution_count": 54,
   "outputs": [],
   "source": [
    "df = pd.merge(volume, mean, on=\"file code\", how=\"outer\")\n",
    "df = pd.merge(df, sd, on=\"file code\", how=\"outer\")"
   ],
   "metadata": {
    "collapsed": false,
    "pycharm": {
     "name": "#%%\n"
    }
   }
  },
  {
   "cell_type": "markdown",
   "source": [
    "### Encode some columns"
   ],
   "metadata": {
    "collapsed": false,
    "pycharm": {
     "name": "#%% md\n"
    }
   }
  },
  {
   "cell_type": "code",
   "execution_count": 55,
   "outputs": [],
   "source": [
    "encoder = LabelEncoder()\n",
    "df[\"group\"] = encoder.fit_transform(df[\"group\"])\n",
    "df[\"gender\"] = encoder.fit_transform(df[\"gender\"])\n",
    "df[\"handedness\"] = encoder.fit_transform(df[\"handedness\"])\n",
    "df[\"affected hemisphere\"] = encoder.fit_transform(df[\"affected hemisphere\"])"
   ],
   "metadata": {
    "collapsed": false,
    "pycharm": {
     "name": "#%%\n"
    }
   }
  },
  {
   "cell_type": "markdown",
   "source": [
    "### Split the target and source columns"
   ],
   "metadata": {
    "collapsed": false,
    "pycharm": {
     "name": "#%% md\n"
    }
   }
  },
  {
   "cell_type": "code",
   "execution_count": 56,
   "outputs": [],
   "source": [
    "with open(\"config/train_params_config.json\") as file:\n",
    "    columns=json.load(file)\n",
    "x = df[columns]\n",
    "y = df[\"group\"]"
   ],
   "metadata": {
    "collapsed": false,
    "pycharm": {
     "name": "#%%\n"
    }
   }
  },
  {
   "cell_type": "markdown",
   "source": [
    "### Compute the combined columns"
   ],
   "metadata": {
    "collapsed": false,
    "pycharm": {
     "name": "#%% md\n"
    }
   }
  },
  {
   "cell_type": "code",
   "execution_count": 57,
   "outputs": [
    {
     "name": "stderr",
     "output_type": "stream",
     "text": [
      "C:\\Users\\Administrator\\AppData\\Local\\Temp\\2\\ipykernel_7140\\2417344488.py:1: SettingWithCopyWarning: \n",
      "A value is trying to be set on a copy of a slice from a DataFrame.\n",
      "Try using .loc[row_indexer,col_indexer] = value instead\n",
      "\n",
      "See the caveats in the documentation: https://pandas.pydata.org/pandas-docs/stable/user_guide/indexing.html#returning-a-view-versus-a-copy\n",
      "  x[\"mean_AxD_Frontal_Sup_L * mean_RD_Frontal_Inf_Oper_R\"] = df[\"mean_AxD_Frontal_Sup_L\"] * df[\"mean_RD_Frontal_Inf_Oper_R\"]\n",
      "C:\\Users\\Administrator\\AppData\\Local\\Temp\\2\\ipykernel_7140\\2417344488.py:2: SettingWithCopyWarning: \n",
      "A value is trying to be set on a copy of a slice from a DataFrame.\n",
      "Try using .loc[row_indexer,col_indexer] = value instead\n",
      "\n",
      "See the caveats in the documentation: https://pandas.pydata.org/pandas-docs/stable/user_guide/indexing.html#returning-a-view-versus-a-copy\n",
      "  x[\"Occipital_Sup_R * mean_AxD_Heschl_L\"] = df[\"Occipital_Sup_R\"]*df[\"mean_AxD_Heschl_L\"]\n",
      "C:\\Users\\Administrator\\AppData\\Local\\Temp\\2\\ipykernel_7140\\2417344488.py:3: SettingWithCopyWarning: \n",
      "A value is trying to be set on a copy of a slice from a DataFrame.\n",
      "Try using .loc[row_indexer,col_indexer] = value instead\n",
      "\n",
      "See the caveats in the documentation: https://pandas.pydata.org/pandas-docs/stable/user_guide/indexing.html#returning-a-view-versus-a-copy\n",
      "  x[\"Volume Occipital_Sup_R * mean_FA_Frontal_Inf_Tri_L\"] = df[\"Occipital_Sup_R\"]*df[\"mean_FA_Frontal_Inf_Tri_L\"]\n",
      "C:\\Users\\Administrator\\AppData\\Local\\Temp\\2\\ipykernel_7140\\2417344488.py:4: SettingWithCopyWarning: \n",
      "A value is trying to be set on a copy of a slice from a DataFrame.\n",
      "Try using .loc[row_indexer,col_indexer] = value instead\n",
      "\n",
      "See the caveats in the documentation: https://pandas.pydata.org/pandas-docs/stable/user_guide/indexing.html#returning-a-view-versus-a-copy\n",
      "  x[\"mean_MD_Caudate_L* Paracentral_Lobule_L\"] = df[\"mean_MD_Caudate_L\"]*df[\"Paracentral_Lobule_L\"]\n",
      "C:\\Users\\Administrator\\AppData\\Local\\Temp\\2\\ipykernel_7140\\2417344488.py:5: SettingWithCopyWarning: \n",
      "A value is trying to be set on a copy of a slice from a DataFrame.\n",
      "Try using .loc[row_indexer,col_indexer] = value instead\n",
      "\n",
      "See the caveats in the documentation: https://pandas.pydata.org/pandas-docs/stable/user_guide/indexing.html#returning-a-view-versus-a-copy\n",
      "  x[\"mean_AxD_Rolandic_Oper_R * mean_MD_Frontal_Mid_L\"] = df[\"mean_AxD_Rolandic_Oper_R\"]*df[\"mean_MD_Frontal_Mid_L\"]\n"
     ]
    }
   ],
   "source": [
    "x[\"mean_AxD_Frontal_Sup_L * mean_RD_Frontal_Inf_Oper_R\"] = df[\"mean_AxD_Frontal_Sup_L\"] * df[\"mean_RD_Frontal_Inf_Oper_R\"]\n",
    "x[\"Occipital_Sup_R * mean_AxD_Heschl_L\"] = df[\"Occipital_Sup_R\"]*df[\"mean_AxD_Heschl_L\"]\n",
    "x[\"Volume Occipital_Sup_R * mean_FA_Frontal_Inf_Tri_L\"] = df[\"Occipital_Sup_R\"]*df[\"mean_FA_Frontal_Inf_Tri_L\"]\n",
    "x[\"mean_MD_Caudate_L* Paracentral_Lobule_L\"] = df[\"mean_MD_Caudate_L\"]*df[\"Paracentral_Lobule_L\"]\n",
    "x[\"mean_AxD_Rolandic_Oper_R * mean_MD_Frontal_Mid_L\"] = df[\"mean_AxD_Rolandic_Oper_R\"]*df[\"mean_MD_Frontal_Mid_L\"]"
   ],
   "metadata": {
    "collapsed": false,
    "pycharm": {
     "name": "#%%\n"
    }
   }
  },
  {
   "cell_type": "markdown",
   "source": [
    "### Save the data frame into a pickle file"
   ],
   "metadata": {
    "collapsed": false,
    "pycharm": {
     "name": "#%% md\n"
    }
   }
  },
  {
   "cell_type": "code",
   "execution_count": 58,
   "outputs": [],
   "source": [
    "with open(\"data\\DataFrame.pickle\", \"wb\") as file:\n",
    "    pickle.dump([x, y], file, protocol=pickle.HIGHEST_PROTOCOL)"
   ],
   "metadata": {
    "collapsed": false,
    "pycharm": {
     "name": "#%%\n"
    }
   }
  }
 ],
 "metadata": {
  "kernelspec": {
   "display_name": "Python 3",
   "language": "python",
   "name": "python3"
  },
  "language_info": {
   "codemirror_mode": {
    "name": "ipython",
    "version": 2
   },
   "file_extension": ".py",
   "mimetype": "text/x-python",
   "name": "python",
   "nbconvert_exporter": "python",
   "pygments_lexer": "ipython2",
   "version": "2.7.6"
  }
 },
 "nbformat": 4,
 "nbformat_minor": 0
}