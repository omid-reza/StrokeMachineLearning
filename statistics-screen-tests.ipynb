{
 "cells": [
  {
   "cell_type": "markdown",
   "metadata": {
    "collapsed": false,
    "pycharm": {
     "name": "#%% md\n"
    }
   },
   "source": [
    "### Screening Test Plots"
   ]
  },
  {
   "cell_type": "code",
   "execution_count": null,
   "metadata": {
    "pycharm": {
     "name": "#%%\n"
    }
   },
   "outputs": [],
   "source": [
    "import pandas as pd\n",
    "import seaborn as sns\n",
    "import matplotlib.pyplot as plt"
   ]
  },
  {
   "cell_type": "code",
   "execution_count": null,
   "metadata": {
    "pycharm": {
     "name": "#%%\n"
    }
   },
   "outputs": [],
   "source": [
    "MoCA = pd.read_csv(\"data/Screening Tests/MoCA.csv\")\n",
    "Vol = pd.read_csv(\"data/DTI-AAL-Volume.csv\")\n",
    "df = pd.merge(MoCA, Vol, how=\"inner\", on=\"file code\")\n",
    "MoCA = df[[\"pre\", \"post\", \"follow-up\", \"file code\", \"group\"]]\n",
    "MoCA_active = MoCA[MoCA[\"group\"]==\"tDCS\"]\n",
    "MoCA_sham = MoCA[MoCA[\"group\"]==\"sham\"]\n",
    "MoCA_control = MoCA[MoCA[\"group\"]==\"control\"]"
   ]
  },
  {
   "cell_type": "code",
   "execution_count": null,
   "metadata": {
    "pycharm": {
     "name": "#%%\n"
    }
   },
   "outputs": [],
   "source": [
    "data = {\n",
    "    \"active\":{\n",
    "        \"pre\":0, \"post\":0, \"follow-up\":0\n",
    "    },\n",
    "    \"sham\":{\n",
    "        \"pre\":0, \"post\":0, \"follow-up\":0\n",
    "    },\n",
    "    \"control\":{\n",
    "        \"pre\":0, \"post\":0, \"follow-up\":0\n",
    "    }\n",
    "}\n",
    "datasets = {\n",
    "    \"active\": MoCA_active,\n",
    "    \"sham\":MoCA_sham,\n",
    "    \"control\":MoCA_control\n",
    "}\n",
    "for df_name in datasets:\n",
    "    data[df_name]['pre']=datasets[df_name].mean()[0]\n",
    "    data[df_name]['post']=datasets[df_name].mean()[1]\n",
    "    data[df_name]['follow-up']=datasets[df_name].mean()[2]"
   ]
  },
  {
   "cell_type": "code",
   "execution_count": null,
   "metadata": {
    "pycharm": {
     "name": "#%%\n"
    }
   },
   "outputs": [],
   "source": [
    "plt.figure(figsize=[8, 5])\n",
    "ax = sns.lineplot(data=data, markers=True, palette=['r', 'b', 'k'])\n",
    "sns.move_legend(ax, \"lower center\", bbox_to_anchor=(.5, 1), ncol=3, title=None, frameon=False)\n",
    "ax.set_ylabel(\"Mean\")\n",
    "ax.set_xlabel(\"\")\n",
    "ax.set_ylim([10, 18])\n",
    "plt.savefig(\"results/plots/screening_test_by_group/MoCA\")"
   ]
  },
  {
   "cell_type": "code",
   "execution_count": null,
   "metadata": {
    "pycharm": {
     "name": "#%%\n"
    }
   },
   "outputs": [],
   "source": [
    "MMSE = pd.read_csv(\"data/Screening Tests/MMSE.csv\")\n",
    "Vol = pd.read_csv(\"data/DTI-AAL-Volume.csv\")\n",
    "df = pd.merge(MMSE, Vol, how=\"inner\", on=\"file code\")\n",
    "MMSE = df[[\"pre\", \"post\", \"follow-up\", \"file code\", \"group\"]]\n",
    "MMSE_active = MMSE[MMSE[\"group\"]==\"tDCS\"]\n",
    "MMSE_sham = MMSE[MMSE[\"group\"]==\"sham\"]\n",
    "MMSE_control = MMSE[MMSE[\"group\"]==\"control\"]"
   ]
  },
  {
   "cell_type": "code",
   "execution_count": null,
   "metadata": {
    "pycharm": {
     "name": "#%%\n"
    }
   },
   "outputs": [],
   "source": [
    "datasets = {\n",
    "    \"active\": MMSE_active,\n",
    "    \"sham\":MMSE_sham,\n",
    "    \"control\":MMSE_control\n",
    "}\n",
    "for df_name in datasets:\n",
    "    data[df_name]['pre']=datasets[df_name].mean()[0]\n",
    "    data[df_name]['post']=datasets[df_name].mean()[1]\n",
    "    data[df_name]['follow-up']=datasets[df_name].mean()[2]"
   ]
  },
  {
   "cell_type": "code",
   "execution_count": null,
   "metadata": {
    "pycharm": {
     "name": "#%%\n"
    }
   },
   "outputs": [],
   "source": [
    "plt.figure(figsize=[8, 5])\n",
    "ax = sns.lineplot(data=data, markers=True, palette=['r', 'b', 'k'])\n",
    "sns.move_legend(ax, \"lower center\", bbox_to_anchor=(.5, 1), ncol=3, title=None, frameon=False)\n",
    "ax.set_ylabel(\"Mean\")\n",
    "ax.set_xlabel(\"\")\n",
    "ax.set_ylim([18, 27])\n",
    "plt.savefig(\"results/plots/screening_test_by_group/MMSE\")"
   ]
  }
 ],
 "metadata": {
  "kernelspec": {
   "display_name": "Python 3",
   "language": "python",
   "name": "python3"
  },
  "language_info": {
   "codemirror_mode": {
    "name": "ipython",
    "version": 2
   },
   "file_extension": ".py",
   "mimetype": "text/x-python",
   "name": "python",
   "nbconvert_exporter": "python",
   "pygments_lexer": "ipython2",
   "version": "2.7.6"
  }
 },
 "nbformat": 4,
 "nbformat_minor": 0
}
