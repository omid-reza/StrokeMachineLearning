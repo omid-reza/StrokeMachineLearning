{
 "cells": [
  {
   "cell_type": "code",
   "execution_count": null,
   "metadata": {
    "pycharm": {
     "name": "#%%\n"
    }
   },
   "outputs": [],
   "source": [
    "import pickle\n",
    "import pandas as pd\n",
    "from scipy.stats import f_oneway"
   ]
  },
  {
   "cell_type": "code",
   "execution_count": null,
   "metadata": {
    "pycharm": {
     "name": "#%%\n"
    }
   },
   "outputs": [],
   "source": [
    "df = pd.read_csv(\"data\\DTI-AAL-Volume.csv\")"
   ]
  },
  {
   "cell_type": "code",
   "execution_count": null,
   "metadata": {
    "pycharm": {
     "name": "#%%\n"
    }
   },
   "outputs": [],
   "source": [
    "df = df[[\"age\", \"gender\", \"post-stroke time\", \"group\", \"affected hemisphere\", \"handedness\"]]"
   ]
  },
  {
   "cell_type": "code",
   "execution_count": null,
   "metadata": {
    "pycharm": {
     "name": "#%%\n"
    }
   },
   "outputs": [],
   "source": [
    "df.dropna(inplace=True)"
   ]
  },
  {
   "cell_type": "markdown",
   "metadata": {
    "collapsed": false,
    "pycharm": {
     "name": "#%% md\n"
    }
   },
   "source": [
    "### Mean and SD for the selected columns"
   ]
  },
  {
   "cell_type": "code",
   "execution_count": null,
   "metadata": {
    "pycharm": {
     "name": "#%%\n"
    }
   },
   "outputs": [],
   "source": [
    "tDCS = df[df['group'] == \"tDCS\"]\n",
    "sham = df[df['group'] == \"sham\"]\n",
    "control = df[df['group'] == \"control\"]"
   ]
  },
  {
   "cell_type": "code",
   "execution_count": null,
   "metadata": {
    "pycharm": {
     "name": "#%%\n"
    }
   },
   "outputs": [],
   "source": [
    "datasets = {\n",
    "    \"tDCS\":tDCS,\n",
    "    \"sham\":sham,\n",
    "    \"control\":control,\n",
    "    \"total\":df\n",
    "}\n",
    "for ds_index in datasets:\n",
    "    print(\"=============> {0} <=============\".format(ds_index))\n",
    "    print(datasets[ds_index].describe().head(3))"
   ]
  },
  {
   "cell_type": "code",
   "execution_count": null,
   "metadata": {
    "pycharm": {
     "name": "#%%\n"
    }
   },
   "outputs": [],
   "source": [
    "params = [\"gender\", \"affected hemisphere\", \"handedness\"]\n",
    "for ds_index in datasets:\n",
    "    print(\"======> {0} <======\".format(ds_index))\n",
    "    for param in params:\n",
    "        print(datasets[ds_index][param].value_counts())\n",
    "        print(\"------------------------------------\")"
   ]
  },
  {
   "cell_type": "markdown",
   "metadata": {
    "collapsed": false,
    "pycharm": {
     "name": "#%% md\n"
    }
   },
   "source": [
    "### Mean and SD in the selected columns"
   ]
  },
  {
   "cell_type": "code",
   "execution_count": null,
   "metadata": {
    "pycharm": {
     "name": "#%%\n"
    }
   },
   "outputs": [],
   "source": [
    "with open(\"data\\DataFrame.pickle\", \"rb\") as file:\n",
    "    x, y, df= pickle.load(file)\n",
    "columns = [\n",
    "    \"mean_FA_Rectus_R\",\n",
    "    \"mean_FA_Pallidum_L\",\n",
    "    \"mean_FA_Postcentral_L\",\n",
    "    \"mean_FA_Cingulum_Ant_L\",\n",
    "    \"mean_MD-Precentral_L\",\n",
    "    \"mean_MD_Caudate_L\",\n",
    "    \"mean_AxD_Occipital_Inf_R\",\n",
    "    \"mean_RD_Frontal_Inf_Tri_R\",\n",
    "    \"mean_RD_Frontal_Inf_Orb_R\",\n",
    "    \"group\",\n",
    "]\n",
    "df = df[columns]\n",
    "tDCS = df[df['group'] == 0]\n",
    "sham = df[df['group'] == 1]\n",
    "control = df[df['group'] == 2]"
   ]
  },
  {
   "cell_type": "code",
   "execution_count": null,
   "metadata": {
    "pycharm": {
     "name": "#%%\n"
    }
   },
   "outputs": [],
   "source": [
    "df.describe().head(3)"
   ]
  },
  {
   "cell_type": "code",
   "execution_count": null,
   "metadata": {
    "pycharm": {
     "name": "#%%\n"
    }
   },
   "outputs": [],
   "source": [
    "tDCS.describe().head(3)"
   ]
  },
  {
   "cell_type": "code",
   "execution_count": null,
   "metadata": {
    "pycharm": {
     "name": "#%%\n"
    }
   },
   "outputs": [],
   "source": [
    "sham.describe().head(3)"
   ]
  },
  {
   "cell_type": "code",
   "execution_count": null,
   "metadata": {
    "pycharm": {
     "name": "#%%\n"
    }
   },
   "outputs": [],
   "source": [
    "control.describe().head(3)"
   ]
  },
  {
   "cell_type": "markdown",
   "metadata": {
    "collapsed": false,
    "pycharm": {
     "name": "#%% md\n"
    }
   },
   "source": [
    "### One-way Anova Test"
   ]
  },
  {
   "cell_type": "code",
   "execution_count": null,
   "metadata": {
    "pycharm": {
     "name": "#%%\n"
    }
   },
   "outputs": [],
   "source": [
    "for column in columns:\n",
    "    print(column, end=\": \")\n",
    "    statistic, pvalue = f_oneway(tDCS[column], sham[column], control[column])\n",
    "    print(format(pvalue, \".17f\"))"
   ]
  }
 ],
 "metadata": {
  "kernelspec": {
   "display_name": "Python 3",
   "language": "python",
   "name": "python3"
  },
  "language_info": {
   "codemirror_mode": {
    "name": "ipython",
    "version": 2
   },
   "file_extension": ".py",
   "mimetype": "text/x-python",
   "name": "python",
   "nbconvert_exporter": "python",
   "pygments_lexer": "ipython2",
   "version": "2.7.6"
  }
 },
 "nbformat": 4,
 "nbformat_minor": 0
}
