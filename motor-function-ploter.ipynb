{
 "cells": [
  {
   "cell_type": "markdown",
   "metadata": {
    "collapsed": false,
    "pycharm": {
     "name": "#%% md\n"
    }
   },
   "source": [
    "### Import required libraries"
   ]
  },
  {
   "cell_type": "code",
   "execution_count": null,
   "metadata": {
    "pycharm": {
     "name": "#%%\n"
    }
   },
   "outputs": [],
   "source": [
    "import pandas as pd\n",
    "import seaborn as sns\n",
    "import matplotlib.pyplot as plt"
   ]
  },
  {
   "cell_type": "markdown",
   "metadata": {
    "collapsed": false,
    "pycharm": {
     "name": "#%% md\n"
    }
   },
   "source": [
    "### Load the dataset"
   ]
  },
  {
   "cell_type": "code",
   "execution_count": null,
   "metadata": {
    "pycharm": {
     "name": "#%%\n"
    }
   },
   "outputs": [],
   "source": [
    "df = pd.read_csv(\"data\\Motor-Function-By-Group.csv\")\n",
    "upper_df = df[df[\"limbs\"]==\"upper\"]\n",
    "lower_df = df[df[\"limbs\"]==\"lower\"]"
   ]
  },
  {
   "cell_type": "markdown",
   "metadata": {
    "collapsed": false,
    "pycharm": {
     "name": "#%% md\n"
    }
   },
   "source": [
    "### Motor Function Plots"
   ]
  },
  {
   "cell_type": "code",
   "execution_count": null,
   "metadata": {
    "pycharm": {
     "name": "#%%\n"
    }
   },
   "outputs": [],
   "source": [
    "datasets ={\n",
    "    \"upper\": upper_df,\n",
    "    \"lower\": lower_df\n",
    "}\n",
    "for df in datasets:\n",
    "    plt.figure(figsize=[8, 5])\n",
    "    ax = sns.lineplot(data=datasets[df],x=\"timepoint\",y=\"value\", hue=\"group\", style=\"group\",markers=True, palette=['r', 'b', 'k'])\n",
    "    sns.move_legend(ax, \"lower center\", bbox_to_anchor=(.5, 1), ncol=3, title=None, frameon=False)\n",
    "    ax.set_ylim([0, 100])\n",
    "    ax.set_ylabel(\"Mean\")\n",
    "    ax.set_xlabel(\"\")\n",
    "    ax.lines[1].set_linestyle(\"dashed\")\n",
    "    ax.lines[2].set_linestyle(\"dotted\")\n",
    "    plt.savefig(\"results/plots/motor_function_by_group/{0}\".format(df))"
   ]
  }
 ],
 "metadata": {
  "kernelspec": {
   "display_name": "Python 3",
   "language": "python",
   "name": "python3"
  },
  "language_info": {
   "codemirror_mode": {
    "name": "ipython",
    "version": 2
   },
   "file_extension": ".py",
   "mimetype": "text/x-python",
   "name": "python",
   "nbconvert_exporter": "python",
   "pygments_lexer": "ipython2",
   "version": "2.7.6"
  }
 },
 "nbformat": 4,
 "nbformat_minor": 0
}
